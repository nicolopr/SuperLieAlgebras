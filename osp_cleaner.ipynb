{
 "cells": [
  {
   "cell_type": "markdown",
   "id": "4348dd89-9786-4572-89af-386876e0a3bf",
   "metadata": {},
   "source": [
    "# Imports from .py files"
   ]
  },
  {
   "cell_type": "code",
   "execution_count": 1,
   "id": "2ed810c4-07f4-411d-852d-52af84a0c69c",
   "metadata": {},
   "outputs": [],
   "source": [
    "from basis_vectors import Vector_array, Basis_vector\n",
    "from scalar_products import scalarp_vector, scalarp_roots\n",
    "from roots import Root, sum_root, mult_root\n",
    "from weyl import weyl\n",
    "from dynkin import Dynkin, Distinguished\n",
    "from travel_diagrams import travel, print_visited, print_visited_cartan, find_Qfunctions, find_QQ_relations"
   ]
  },
  {
   "cell_type": "markdown",
   "id": "4fc8a413-2a82-4081-a387-11a557341405",
   "metadata": {},
   "source": [
    "# Osp(4|2)"
   ]
  },
  {
   "cell_type": "markdown",
   "id": "cbd7a298-4da0-4bd8-9ee0-5fe1b064ec1c",
   "metadata": {},
   "source": [
    "### Initialise grading "
   ]
  },
  {
   "cell_type": "markdown",
   "id": "53f637fb-83df-40ff-a3ba-360fda201d88",
   "metadata": {},
   "source": [
    "First, we need to declare grading of our space initialising an instance of the Vector_array class with arguments a `tuple` with two entries:\n",
    "`(no_bosons,no_fermions)`.\n",
    "\n",
    "For Osp(4|2), `no_bosons=2` and `no_fermions=1`."
   ]
  },
  {
   "cell_type": "code",
   "execution_count": 2,
   "id": "b4e142d5-93bc-4f0e-a7bd-aeff86a69e4f",
   "metadata": {},
   "outputs": [],
   "source": [
    "vector_array=Vector_array((2,1))"
   ]
  },
  {
   "cell_type": "markdown",
   "id": "587e6397-32e0-43bc-aaa8-2e1bb0695751",
   "metadata": {},
   "source": [
    "### Create distinguished Dynkin diagram"
   ]
  },
  {
   "cell_type": "markdown",
   "id": "f594fd60-751c-4e40-9495-11c19b729dae",
   "metadata": {},
   "source": [
    "We can generate the distinguished Dynkin diagram for Osp(4|2) by initialising an instance of the class `Distinguished` and passing to it `vector_array`. Note that `Distinguished` is a child of the class `Dynkin`."
   ]
  },
  {
   "cell_type": "code",
   "execution_count": 3,
   "id": "18f28333-7845-4058-ac05-761516bef649",
   "metadata": {},
   "outputs": [],
   "source": [
    "distinguished=Distinguished(vector_array)"
   ]
  },
  {
   "cell_type": "markdown",
   "id": "808b0b0c-88fc-48c1-959b-3f67ec7085d0",
   "metadata": {},
   "source": [
    "We can visualise the simple roots associated to this diagram by using the method `view` of the `Dynkin` class.\n",
    "\n",
    "X means that it is a fermionic node, O that it is bosonic. Links between roots are unfortunately not printed yet!"
   ]
  },
  {
   "cell_type": "code",
   "execution_count": 4,
   "id": "764b7d8b-722d-4d68-af30-f5836670fa8c",
   "metadata": {},
   "outputs": [
    {
     "name": "stdout",
     "output_type": "stream",
     "text": [
      "X        O            O        \n",
      "f1-b1    b1-b2    b1+b2    \n",
      "Q()|(1)  S(12)|(1)  S(12^)|(1)  \n"
     ]
    }
   ],
   "source": [
    "distinguished.view()"
   ]
  },
  {
   "cell_type": "markdown",
   "id": "78a93d6a-fa2c-4eda-8050-5c42c654d47b",
   "metadata": {},
   "source": [
    "The Cartan matrix associated to this Dynkin diagram is stored in the attribute `cartan_matrix` of the `Dynkin` class.\n",
    "\n",
    "You can print it nicely via the method `print_cartan` of the `Dynkin` class."
   ]
  },
  {
   "cell_type": "code",
   "execution_count": 5,
   "id": "2053eb4a-c5f3-4dff-b86a-2677bb36a91c",
   "metadata": {},
   "outputs": [
    {
     "name": "stdout",
     "output_type": "stream",
     "text": [
      "dimension of Cartan matrix:\n",
      "3\n",
      "Cartan matrix:\n",
      "[0, 1, 1]\n",
      "[-1, 2, 0]\n",
      "[-1, 0, 2]\n"
     ]
    }
   ],
   "source": [
    "print('dimension of Cartan matrix:')\n",
    "print(len(distinguished.cartan_matrix))\n",
    "\n",
    "print('Cartan matrix:')\n",
    "distinguished.print_cartan()"
   ]
  },
  {
   "cell_type": "markdown",
   "id": "51677231-9060-47dd-b902-df77941d7dde",
   "metadata": {},
   "source": [
    "## Automated"
   ]
  },
  {
   "cell_type": "markdown",
   "id": "af3b54c1-ba74-4adf-8535-304345941a2a",
   "metadata": {},
   "source": [
    "We use a function, `travel`, that lists all diagrams reachable from distinguished via Weyl transformations"
   ]
  },
  {
   "cell_type": "code",
   "execution_count": 6,
   "id": "f69bbe7f-5e27-4f94-81c6-d09bf42bdb59",
   "metadata": {},
   "outputs": [
    {
     "name": "stdout",
     "output_type": "stream",
     "text": [
      "number of Hasse paths: 32\n"
     ]
    }
   ],
   "source": [
    "visited=travel(distinguished)\n",
    "print('number of Hasse paths:', len(visited))"
   ]
  },
  {
   "cell_type": "code",
   "execution_count": 7,
   "id": "ae4a65a1-b870-4464-9f8c-e186048a7369",
   "metadata": {},
   "outputs": [
    {
     "name": "stdout",
     "output_type": "stream",
     "text": [
      "X    X    X    \n",
      "-f1+b1    f1-b2    f1+b2    \n",
      "Q(1)|()  S(12)|(1)  S(12^)|(1)  \n",
      "[0, 1, 1]\n",
      "[-1, 0, 2]\n",
      "[-1, 2, 0]\n",
      "X        O            O        \n",
      "f1-b2    -b1+b2    b1+b2    \n",
      "Q()|(1)  S(12)|(1)  S(1^2)|(1)  \n",
      "[0, 1, 1]\n",
      "[-1, 2, 0]\n",
      "[-1, 0, 2]\n",
      "X        O            O        \n",
      "f1+b2    b1-b2    -b1-b2    \n",
      "Q()|(1)  S(1^2^)|(1)  S(12^)|(1)  \n",
      "[0, 1, 1]\n",
      "[-1, 2, 0]\n",
      "[-1, 0, 2]\n",
      "X    X    X    \n",
      "-f1-b2    f1-b1    f1+b1    \n",
      "Q(2^)|()  S(12^)|(1)  S(1^2^)|(1)  \n",
      "[0, 1, 1]\n",
      "[-1, 0, 2]\n",
      "[-1, 2, 0]\n",
      "X        O            O        \n",
      "f1+b1    -b1+b2    -b1-b2    \n",
      "Q()|(1)  S(1^2^)|(1)  S(1^2)|(1)  \n",
      "[0, 1, 1]\n",
      "[-1, 2, 0]\n",
      "[-1, 0, 2]\n",
      "X        O            O        \n",
      "f1-b1    b1-b2    b1+b2    \n",
      "Q()|(1)  S(12)|(1)  S(12^)|(1)  \n",
      "[0, 1, 1]\n",
      "[-1, 2, 0]\n",
      "[-1, 0, 2]\n",
      "X    X    X    \n",
      "-f1-b1    f1-b2    f1+b2    \n",
      "Q(1^)|()  S(1^2)|(1)  S(1^2^)|(1)  \n",
      "[0, 1, 1]\n",
      "[-1, 0, 2]\n",
      "[-1, 2, 0]\n",
      "    O        X        O        \n",
      "-b1-b2    -f1+b2    2*f1    \n",
      "Q(1^)|()  Q(1^2)|()  S(1^2)|(1^)  \n",
      "[2, -1, 0]\n",
      "[1, 0, -2]\n",
      "[0, -1, 2]\n",
      "    O        X        O        \n",
      "-b1+b2    -f1-b2    2*f1    \n",
      "Q(1^)|()  Q(1^2^)|()  S(1^2^)|(1^)  \n",
      "[2, -1, 0]\n",
      "[1, 0, -2]\n",
      "[0, -1, 2]\n",
      "    O        X        O        \n",
      "b1-b2    -f1-b1    2*f1    \n",
      "Q(2^)|()  Q(1^2^)|()  S(1^2^)|(1^)  \n",
      "[2, -1, 0]\n",
      "[1, 0, -2]\n",
      "[0, -1, 2]\n",
      "    O        X        O        \n",
      "-b1+b2    f1-b2    -2*f1    \n",
      "Q(1^)|()  Q(1^2^)|()  S(1^2^)|(1)  \n",
      "[2, -1, 0]\n",
      "[1, 0, -2]\n",
      "[0, -1, 2]\n",
      "    O        X        O        \n",
      "b1-b2    f1-b1    -2*f1    \n",
      "Q(2^)|()  Q(1^2^)|()  S(1^2^)|(1)  \n",
      "[2, -1, 0]\n",
      "[1, 0, -2]\n",
      "[0, -1, 2]\n",
      "X    X    X    \n",
      "f1-b1    -f1+b2    -f1-b2    \n",
      "Q(1^)|()  S(1^2^)|(1^)  S(1^2)|(1^)  \n",
      "[0, 1, 1]\n",
      "[-1, 0, 2]\n",
      "[-1, 2, 0]\n",
      "X        O            O        \n",
      "-f1+b1    -b1+b2    -b1-b2    \n",
      "Q()|(1^)  S(1^2^)|(1^)  S(1^2)|(1^)  \n",
      "[0, 1, 1]\n",
      "[-1, 2, 0]\n",
      "[-1, 0, 2]\n",
      "    O        X        O        \n",
      "-b1-b2    f1+b2    -2*f1    \n",
      "Q(1^)|()  Q(1^2)|()  S(1^2)|(1)  \n",
      "[2, -1, 0]\n",
      "[1, 0, -2]\n",
      "[0, -1, 2]\n",
      "    O        X        O        \n",
      "b1+b2    f1-b1    -2*f1    \n",
      "Q(2)|()  Q(1^2)|()  S(1^2)|(1)  \n",
      "[2, -1, 0]\n",
      "[1, 0, -2]\n",
      "[0, -1, 2]\n",
      "X    X    X    \n",
      "f1+b2    -f1+b1    -f1-b1    \n",
      "Q(2)|()  S(1^2)|(1^)  S(12)|(1^)  \n",
      "[0, 1, 1]\n",
      "[-1, 0, 2]\n",
      "[-1, 2, 0]\n",
      "    O        X        O        \n",
      "b1+b2    -f1-b1    2*f1    \n",
      "Q(2)|()  Q(1^2)|()  S(1^2)|(1^)  \n",
      "[2, -1, 0]\n",
      "[1, 0, -2]\n",
      "[0, -1, 2]\n",
      "X    X    X    \n",
      "-f1+b2    f1-b1    f1+b1    \n",
      "Q(2)|()  S(12)|(1)  S(1^2)|(1)  \n",
      "[0, 1, 1]\n",
      "[-1, 0, 2]\n",
      "[-1, 2, 0]\n",
      "    O        X        O        \n",
      "-b1+b2    -f1+b1    2*f1    \n",
      "Q(2)|()  Q(12)|()  S(12)|(1^)  \n",
      "[2, -1, 0]\n",
      "[1, 0, -2]\n",
      "[0, -1, 2]\n",
      "    O        X        O        \n",
      "b1-b2    -f1+b2    2*f1    \n",
      "Q(1)|()  Q(12)|()  S(12)|(1^)  \n",
      "[2, -1, 0]\n",
      "[1, 0, -2]\n",
      "[0, -1, 2]\n",
      "    O        X        O        \n",
      "-b1+b2    f1+b1    -2*f1    \n",
      "Q(2)|()  Q(12)|()  S(12)|(1)  \n",
      "[2, -1, 0]\n",
      "[1, 0, -2]\n",
      "[0, -1, 2]\n",
      "    O        X        O        \n",
      "b1-b2    f1+b2    -2*f1    \n",
      "Q(1)|()  Q(12)|()  S(12)|(1)  \n",
      "[2, -1, 0]\n",
      "[1, 0, -2]\n",
      "[0, -1, 2]\n",
      "X    X    X    \n",
      "f1+b1    -f1+b2    -f1-b2    \n",
      "Q(1)|()  S(12^)|(1^)  S(12)|(1^)  \n",
      "[0, 1, 1]\n",
      "[-1, 0, 2]\n",
      "[-1, 2, 0]\n",
      "X        O            O        \n",
      "-f1-b1    b1-b2    b1+b2    \n",
      "Q()|(1^)  S(12)|(1^)  S(12^)|(1^)  \n",
      "[0, 1, 1]\n",
      "[-1, 2, 0]\n",
      "[-1, 0, 2]\n",
      "    O        X        O        \n",
      "b1+b2    f1-b2    -2*f1    \n",
      "Q(1)|()  Q(12^)|()  S(12^)|(1)  \n",
      "[2, -1, 0]\n",
      "[1, 0, -2]\n",
      "[0, -1, 2]\n",
      "    O        X        O        \n",
      "-b1-b2    f1+b1    -2*f1    \n",
      "Q(2^)|()  Q(12^)|()  S(12^)|(1)  \n",
      "[2, -1, 0]\n",
      "[1, 0, -2]\n",
      "[0, -1, 2]\n",
      "    O        X        O        \n",
      "b1+b2    -f1-b2    2*f1    \n",
      "Q(1)|()  Q(12^)|()  S(12^)|(1^)  \n",
      "[2, -1, 0]\n",
      "[1, 0, -2]\n",
      "[0, -1, 2]\n",
      "    O        X        O        \n",
      "-b1-b2    -f1+b1    2*f1    \n",
      "Q(2^)|()  Q(12^)|()  S(12^)|(1^)  \n",
      "[2, -1, 0]\n",
      "[1, 0, -2]\n",
      "[0, -1, 2]\n",
      "X    X    X    \n",
      "f1-b2    -f1+b1    -f1-b1    \n",
      "Q(2^)|()  S(1^2^)|(1^)  S(12^)|(1^)  \n",
      "[0, 1, 1]\n",
      "[-1, 0, 2]\n",
      "[-1, 2, 0]\n",
      "X        O            O        \n",
      "-f1+b2    b1-b2    -b1-b2    \n",
      "Q()|(1^)  S(1^2^)|(1^)  S(12^)|(1^)  \n",
      "[0, 1, 1]\n",
      "[-1, 2, 0]\n",
      "[-1, 0, 2]\n",
      "X        O            O        \n",
      "-f1-b2    -b1+b2    b1+b2    \n",
      "Q()|(1^)  S(12)|(1^)  S(1^2)|(1^)  \n",
      "[0, 1, 1]\n",
      "[-1, 2, 0]\n",
      "[-1, 0, 2]\n"
     ]
    }
   ],
   "source": [
    "print_visited_cartan(visited)"
   ]
  },
  {
   "cell_type": "markdown",
   "id": "53b5cddc-7883-4258-a9b8-0c1b273ea605",
   "metadata": {},
   "source": [
    "Let's print the same diagrams without the Cartan matrix:"
   ]
  },
  {
   "cell_type": "code",
   "execution_count": 8,
   "id": "3e85c1bc-8594-403d-8861-d3d9fc19d399",
   "metadata": {},
   "outputs": [
    {
     "name": "stdout",
     "output_type": "stream",
     "text": [
      "1-th diagram\n",
      "X    X    X    \n",
      "-f1+b1    f1-b2    f1+b2    \n",
      "Q(1)|()  S(12)|(1)  S(12^)|(1)  \n",
      "2-th diagram\n",
      "X        O            O        \n",
      "f1-b2    -b1+b2    b1+b2    \n",
      "Q()|(1)  S(12)|(1)  S(1^2)|(1)  \n",
      "3-th diagram\n",
      "X        O            O        \n",
      "f1+b2    b1-b2    -b1-b2    \n",
      "Q()|(1)  S(1^2^)|(1)  S(12^)|(1)  \n",
      "4-th diagram\n",
      "X    X    X    \n",
      "-f1-b2    f1-b1    f1+b1    \n",
      "Q(2^)|()  S(12^)|(1)  S(1^2^)|(1)  \n",
      "5-th diagram\n",
      "X        O            O        \n",
      "f1+b1    -b1+b2    -b1-b2    \n",
      "Q()|(1)  S(1^2^)|(1)  S(1^2)|(1)  \n",
      "6-th diagram\n",
      "X        O            O        \n",
      "f1-b1    b1-b2    b1+b2    \n",
      "Q()|(1)  S(12)|(1)  S(12^)|(1)  \n",
      "7-th diagram\n",
      "X    X    X    \n",
      "-f1-b1    f1-b2    f1+b2    \n",
      "Q(1^)|()  S(1^2)|(1)  S(1^2^)|(1)  \n",
      "8-th diagram\n",
      "    O        X        O        \n",
      "-b1-b2    -f1+b2    2*f1    \n",
      "Q(1^)|()  Q(1^2)|()  S(1^2)|(1^)  \n",
      "9-th diagram\n",
      "    O        X        O        \n",
      "-b1+b2    -f1-b2    2*f1    \n",
      "Q(1^)|()  Q(1^2^)|()  S(1^2^)|(1^)  \n",
      "10-th diagram\n",
      "    O        X        O        \n",
      "b1-b2    -f1-b1    2*f1    \n",
      "Q(2^)|()  Q(1^2^)|()  S(1^2^)|(1^)  \n",
      "11-th diagram\n",
      "    O        X        O        \n",
      "-b1+b2    f1-b2    -2*f1    \n",
      "Q(1^)|()  Q(1^2^)|()  S(1^2^)|(1)  \n",
      "12-th diagram\n",
      "    O        X        O        \n",
      "b1-b2    f1-b1    -2*f1    \n",
      "Q(2^)|()  Q(1^2^)|()  S(1^2^)|(1)  \n",
      "13-th diagram\n",
      "X    X    X    \n",
      "f1-b1    -f1+b2    -f1-b2    \n",
      "Q(1^)|()  S(1^2^)|(1^)  S(1^2)|(1^)  \n",
      "14-th diagram\n",
      "X        O            O        \n",
      "-f1+b1    -b1+b2    -b1-b2    \n",
      "Q()|(1^)  S(1^2^)|(1^)  S(1^2)|(1^)  \n",
      "15-th diagram\n",
      "    O        X        O        \n",
      "-b1-b2    f1+b2    -2*f1    \n",
      "Q(1^)|()  Q(1^2)|()  S(1^2)|(1)  \n",
      "16-th diagram\n",
      "    O        X        O        \n",
      "b1+b2    f1-b1    -2*f1    \n",
      "Q(2)|()  Q(1^2)|()  S(1^2)|(1)  \n",
      "17-th diagram\n",
      "X    X    X    \n",
      "f1+b2    -f1+b1    -f1-b1    \n",
      "Q(2)|()  S(1^2)|(1^)  S(12)|(1^)  \n",
      "18-th diagram\n",
      "    O        X        O        \n",
      "b1+b2    -f1-b1    2*f1    \n",
      "Q(2)|()  Q(1^2)|()  S(1^2)|(1^)  \n",
      "19-th diagram\n",
      "X    X    X    \n",
      "-f1+b2    f1-b1    f1+b1    \n",
      "Q(2)|()  S(12)|(1)  S(1^2)|(1)  \n",
      "20-th diagram\n",
      "    O        X        O        \n",
      "-b1+b2    -f1+b1    2*f1    \n",
      "Q(2)|()  Q(12)|()  S(12)|(1^)  \n",
      "21-th diagram\n",
      "    O        X        O        \n",
      "b1-b2    -f1+b2    2*f1    \n",
      "Q(1)|()  Q(12)|()  S(12)|(1^)  \n",
      "22-th diagram\n",
      "    O        X        O        \n",
      "-b1+b2    f1+b1    -2*f1    \n",
      "Q(2)|()  Q(12)|()  S(12)|(1)  \n",
      "23-th diagram\n",
      "    O        X        O        \n",
      "b1-b2    f1+b2    -2*f1    \n",
      "Q(1)|()  Q(12)|()  S(12)|(1)  \n",
      "24-th diagram\n",
      "X    X    X    \n",
      "f1+b1    -f1+b2    -f1-b2    \n",
      "Q(1)|()  S(12^)|(1^)  S(12)|(1^)  \n",
      "25-th diagram\n",
      "X        O            O        \n",
      "-f1-b1    b1-b2    b1+b2    \n",
      "Q()|(1^)  S(12)|(1^)  S(12^)|(1^)  \n",
      "26-th diagram\n",
      "    O        X        O        \n",
      "b1+b2    f1-b2    -2*f1    \n",
      "Q(1)|()  Q(12^)|()  S(12^)|(1)  \n",
      "27-th diagram\n",
      "    O        X        O        \n",
      "-b1-b2    f1+b1    -2*f1    \n",
      "Q(2^)|()  Q(12^)|()  S(12^)|(1)  \n",
      "28-th diagram\n",
      "    O        X        O        \n",
      "b1+b2    -f1-b2    2*f1    \n",
      "Q(1)|()  Q(12^)|()  S(12^)|(1^)  \n",
      "29-th diagram\n",
      "    O        X        O        \n",
      "-b1-b2    -f1+b1    2*f1    \n",
      "Q(2^)|()  Q(12^)|()  S(12^)|(1^)  \n",
      "30-th diagram\n",
      "X    X    X    \n",
      "f1-b2    -f1+b1    -f1-b1    \n",
      "Q(2^)|()  S(1^2^)|(1^)  S(12^)|(1^)  \n",
      "31-th diagram\n",
      "X        O            O        \n",
      "-f1+b2    b1-b2    -b1-b2    \n",
      "Q()|(1^)  S(1^2^)|(1^)  S(12^)|(1^)  \n",
      "32-th diagram\n",
      "X        O            O        \n",
      "-f1-b2    -b1+b2    b1+b2    \n",
      "Q()|(1^)  S(12)|(1^)  S(1^2)|(1^)  \n"
     ]
    }
   ],
   "source": [
    "i=0\n",
    "for element in visited:\n",
    "    i+=1\n",
    "    print(f'{i}-th diagram')\n",
    "    element.view()"
   ]
  },
  {
   "cell_type": "markdown",
   "id": "3af568d5-6622-4ab7-94ff-7d50bee99345",
   "metadata": {},
   "source": [
    "There are 4 categories of diagrams for Osp(4,2):\n",
    "1)  so(6) type, simply laced\n",
    "2)  so(6) type, not simply laced (double link between spinor nodes)\n",
    "3)  sp(6) type, with long root $2f_1$ on first spinor node $S_+$\n",
    "4)  sp(6) type, with long root $2f_1$ on second spinor node $S_-$"
   ]
  },
  {
   "cell_type": "markdown",
   "id": "f8223daf-ef24-482c-8d2c-433123f3e9df",
   "metadata": {},
   "source": [
    "## QQ-relations"
   ]
  },
  {
   "cell_type": "code",
   "execution_count": 9,
   "id": "401b1245-177a-4519-8ec2-c66b1825300b",
   "metadata": {},
   "outputs": [
    {
     "name": "stdout",
     "output_type": "stream",
     "text": [
      "['Q(1)|()', 'S(12)|(1)', 'S(12^)|(1)', 'Q()|(1)', 'S(1^2)|(1)', 'S(1^2^)|(1)', 'Q(2^)|()', 'Q(1^)|()', 'S(1^2^)|(1^)', 'S(1^2)|(1^)', 'Q()|(1^)', 'Q(2)|()', 'S(12)|(1^)', 'S(12^)|(1^)']\n"
     ]
    },
    {
     "data": {
      "text/plain": [
       "14"
      ]
     },
     "execution_count": 9,
     "metadata": {},
     "output_type": "execute_result"
    }
   ],
   "source": [
    "Qs=find_Qfunctions(visited)\n",
    "print(Qs)\n",
    "len(Qs)"
   ]
  },
  {
   "cell_type": "code",
   "execution_count": 10,
   "id": "650355a1-366e-4a9b-b7f3-f2b63ea7e282",
   "metadata": {},
   "outputs": [
    {
     "name": "stdout",
     "output_type": "stream",
     "text": [
      "64\n",
      "37\n",
      "Q(1^)|()Q(2^)|()\n",
      "Q(1^)|()S(1^2)|(1^)\n",
      "Q(1^)|()S(1^2^)|(1)\n",
      "Q(1^)|()S(1^2^)|(1^)\n",
      "Q(2)|()Q(1)|()\n",
      "Q(2)|()Q(1^)|()\n",
      "Q(2)|()S(12)|(1)\n",
      "Q(2)|()S(12)|(1^)\n",
      "Q(2)|()S(1^2)|(1^)\n",
      "Q(2^)|()Q(1)|()\n",
      "S(12)|(1)Q(1)|()\n",
      "S(12)|(1)S(12^)|(1)\n",
      "S(12)|(1)S(1^2^)|(1)\n",
      "S(12)|(1^)Q(1)|()\n",
      "S(12)|(1^)S(12)|(1)\n",
      "S(12)|(1^)S(1^2)|(1^)\n",
      "S(12)|(1^)S(1^2^)|(1^)\n",
      "S(12^)|(1)Q(1)|()\n",
      "S(12^)|(1)Q(2^)|()\n",
      "S(12^)|(1)S(1^2^)|(1)\n",
      "S(12^)|(1^)Q(1)|()\n",
      "S(12^)|(1^)Q(2^)|()\n",
      "S(12^)|(1^)S(12)|(1^)\n",
      "S(12^)|(1^)S(12^)|(1)\n",
      "S(12^)|(1^)S(1^2)|(1^)\n",
      "S(12^)|(1^)S(1^2^)|(1^)\n",
      "S(1^2)|(1)Q(1^)|()\n",
      "S(1^2)|(1)Q(2)|()\n",
      "S(1^2)|(1)S(12)|(1)\n",
      "S(1^2)|(1)S(12^)|(1)\n",
      "S(1^2)|(1)S(1^2)|(1^)\n",
      "S(1^2)|(1)S(1^2^)|(1)\n",
      "S(1^2^)|(1)Q(2^)|()\n",
      "S(1^2^)|(1)S(12^)|(1)\n",
      "S(1^2^)|(1^)Q(2^)|()\n",
      "S(1^2^)|(1^)S(1^2)|(1^)\n",
      "S(1^2^)|(1^)S(1^2^)|(1)\n"
     ]
    }
   ],
   "source": [
    "print(len(find_QQ_relations(visited)))\n",
    "kek=[''.join(el['Wronskian']) for el in find_QQ_relations(visited)]\n",
    "wrs=sorted(kek)\n",
    "unique=[]\n",
    "for element in wrs:\n",
    "    if element not in unique:\n",
    "        unique.append(element)\n",
    "print(len(unique))\n",
    "for element in unique:\n",
    "    print(element)"
   ]
  },
  {
   "cell_type": "code",
   "execution_count": 11,
   "id": "5993f361-a770-4bfd-994d-e45ea4dcb5f3",
   "metadata": {},
   "outputs": [
    {
     "data": {
      "text/plain": [
       "{'Wronskian': {'S(12)|(1)', 'S(12^)|(1)'}, 'LHS': 'Q()|(1)*Q(1)|()'}"
      ]
     },
     "execution_count": 11,
     "metadata": {},
     "output_type": "execute_result"
    }
   ],
   "source": [
    "distinguished.QQ_relation(1)"
   ]
  },
  {
   "cell_type": "code",
   "execution_count": 16,
   "id": "36942ab8-2527-415e-81ae-22d9dbaf842a",
   "metadata": {},
   "outputs": [
    {
     "data": {
      "text/plain": [
       "{'Wronskian': {'Q(1)|()', 'S(12)|(1)'}, 'LHS': 'S(12^)|(1)*Q(12)|()'}"
      ]
     },
     "execution_count": 16,
     "metadata": {},
     "output_type": "execute_result"
    }
   ],
   "source": [
    "distinguished.weyl_on_diagram(1).QQ_relation(2)"
   ]
  },
  {
   "cell_type": "code",
   "execution_count": 23,
   "id": "a2f05d43-7ff4-476e-8cf8-10cbf6312ea7",
   "metadata": {},
   "outputs": [
    {
     "name": "stdout",
     "output_type": "stream",
     "text": [
      "    O        X        O        \n",
      "b1-b2    -f1+b2    2*f1    \n",
      "Q(1)|()  Q(12)|()  S(12)|(1^)  \n",
      "X    X    X    \n",
      "-f1+b1    f1-b2    f1+b2    \n",
      "Q(1)|()  S(12)|(1)  S(12^)|(1)  \n"
     ]
    },
    {
     "data": {
      "text/plain": [
       "{'Wronskian': {'Q(1)|()', 'S(12)|(1^)'}, 'LHS': 'Q(12)|()*S(12^)|(1)'}"
      ]
     },
     "execution_count": 23,
     "metadata": {},
     "output_type": "execute_result"
    }
   ],
   "source": [
    "distinguished.weyl_on_diagram(1).view()\n",
    "\n",
    "distinguished.weyl_on_diagram(1).weyl_on_diagram(2).view()\n",
    "distinguished.weyl_on_diagram(1).weyl_on_diagram(2).weyl_on_diagram(2).view()\n",
    "distinguished.weyl_on_diagram(1).weyl_on_diagram(2).QQ_relation(2)"
   ]
  },
  {
   "cell_type": "code",
   "execution_count": 18,
   "id": "62140049-80f9-4c9a-a794-70ad54629d33",
   "metadata": {},
   "outputs": [
    {
     "name": "stdout",
     "output_type": "stream",
     "text": [
      "X    X    X    \n",
      "-f1+b1    f1-b2    f1+b2    \n",
      "Q(1)|()  S(12)|(1)  S(12^)|(1)  \n"
     ]
    }
   ],
   "source": []
  },
  {
   "cell_type": "code",
   "execution_count": 13,
   "id": "b3c4ac44-7e7c-4c90-80f8-06cb07d88235",
   "metadata": {},
   "outputs": [
    {
     "name": "stdout",
     "output_type": "stream",
     "text": [
      "S(12)|(1)S(12^)|(1)\n",
      "S(12)|(1)S(1^2^)|(1)\n",
      "S(12)|(1^)S(12)|(1)\n",
      "S(12)|(1^)S(1^2)|(1^)\n",
      "S(12)|(1^)S(1^2^)|(1^)\n",
      "S(12^)|(1)S(1^2^)|(1)\n",
      "S(12^)|(1^)S(12)|(1^)\n",
      "S(12^)|(1^)S(12^)|(1)\n",
      "S(12^)|(1^)S(1^2)|(1^)\n",
      "S(12^)|(1^)S(1^2^)|(1^)\n",
      "S(1^2)|(1)S(12)|(1)\n",
      "S(1^2)|(1)S(12^)|(1)\n",
      "S(1^2)|(1)S(1^2)|(1^)\n",
      "S(1^2)|(1)S(1^2^)|(1)\n",
      "S(1^2^)|(1)S(12^)|(1)\n",
      "S(1^2^)|(1^)S(1^2)|(1^)\n",
      "S(1^2^)|(1^)S(1^2^)|(1)\n",
      "17\n"
     ]
    }
   ],
   "source": [
    "i=0\n",
    "for element in unique:\n",
    "    if 'Q' not in element:\n",
    "        i+=1\n",
    "        print(element)\n",
    "print(i)"
   ]
  },
  {
   "cell_type": "code",
   "execution_count": 14,
   "id": "64be88ea-68c7-49f2-af39-6a5cb5b3d813",
   "metadata": {},
   "outputs": [
    {
     "name": "stdout",
     "output_type": "stream",
     "text": [
      "Q(1^)|()Q(2^)|()\n",
      "Q(2)|()Q(1)|()\n",
      "Q(2)|()Q(1^)|()\n",
      "Q(2^)|()Q(1)|()\n",
      "4\n"
     ]
    }
   ],
   "source": [
    "i=0\n",
    "for element in unique:\n",
    "    if 'S' not in element:\n",
    "        i+=1\n",
    "        print(element)\n",
    "print(i)"
   ]
  },
  {
   "cell_type": "code",
   "execution_count": 15,
   "id": "a4c53f73-619f-419b-8727-944f842ebb86",
   "metadata": {},
   "outputs": [
    {
     "name": "stdout",
     "output_type": "stream",
     "text": [
      "Q(1^)|()S(1^2)|(1^)\n",
      "Q(1^)|()S(1^2^)|(1)\n",
      "Q(1^)|()S(1^2^)|(1^)\n",
      "Q(2)|()S(12)|(1)\n",
      "Q(2)|()S(12)|(1^)\n",
      "Q(2)|()S(1^2)|(1^)\n",
      "S(12)|(1)Q(1)|()\n",
      "S(12)|(1^)Q(1)|()\n",
      "S(12^)|(1)Q(1)|()\n",
      "S(12^)|(1)Q(2^)|()\n",
      "S(12^)|(1^)Q(1)|()\n",
      "S(12^)|(1^)Q(2^)|()\n",
      "S(1^2)|(1)Q(1^)|()\n",
      "S(1^2)|(1)Q(2)|()\n",
      "S(1^2^)|(1)Q(2^)|()\n",
      "S(1^2^)|(1^)Q(2^)|()\n",
      "16\n"
     ]
    }
   ],
   "source": [
    "i=0\n",
    "QS=[element for element in unique if ('S' in element and 'Q' in element)]\n",
    "for element in QS:\n",
    "    print(element)\n",
    "print(len(QS))"
   ]
  },
  {
   "cell_type": "code",
   "execution_count": null,
   "id": "eb8ff121-dd9f-4403-b006-4daed64d653f",
   "metadata": {},
   "outputs": [],
   "source": []
  }
 ],
 "metadata": {
  "kernelspec": {
   "display_name": "Python 3 (ipykernel)",
   "language": "python",
   "name": "python3"
  },
  "language_info": {
   "codemirror_mode": {
    "name": "ipython",
    "version": 3
   },
   "file_extension": ".py",
   "mimetype": "text/x-python",
   "name": "python",
   "nbconvert_exporter": "python",
   "pygments_lexer": "ipython3",
   "version": "3.11.8"
  }
 },
 "nbformat": 4,
 "nbformat_minor": 5
}
