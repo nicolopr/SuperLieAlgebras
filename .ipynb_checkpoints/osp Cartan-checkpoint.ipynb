{
 "cells": [
  {
   "cell_type": "markdown",
   "id": "4348dd89-9786-4572-89af-386876e0a3bf",
   "metadata": {},
   "source": [
    "# Imports from .py files"
   ]
  },
  {
   "cell_type": "code",
   "execution_count": 98,
   "id": "2ed810c4-07f4-411d-852d-52af84a0c69c",
   "metadata": {},
   "outputs": [
    {
     "ename": "ImportError",
     "evalue": "cannot import name 'find_QQ' from 'travel_diagrams' (/Users/nicolo/Python Notebooks/Cartan and Qs/travel_diagrams.py)",
     "output_type": "error",
     "traceback": [
      "\u001b[0;31m---------------------------------------------------------------------------\u001b[0m",
      "\u001b[0;31mImportError\u001b[0m                               Traceback (most recent call last)",
      "Cell \u001b[0;32mIn[98], line 6\u001b[0m\n\u001b[1;32m      4\u001b[0m \u001b[38;5;28;01mfrom\u001b[39;00m \u001b[38;5;21;01mweyl\u001b[39;00m \u001b[38;5;28;01mimport\u001b[39;00m weyl\n\u001b[1;32m      5\u001b[0m \u001b[38;5;28;01mfrom\u001b[39;00m \u001b[38;5;21;01mdynkin\u001b[39;00m \u001b[38;5;28;01mimport\u001b[39;00m Dynkin, Distinguished\n\u001b[0;32m----> 6\u001b[0m \u001b[38;5;28;01mfrom\u001b[39;00m \u001b[38;5;21;01mtravel_diagrams\u001b[39;00m \u001b[38;5;28;01mimport\u001b[39;00m travel, print_visited, print_visited_cartan, find_Qfunctions, find_QQ\n",
      "\u001b[0;31mImportError\u001b[0m: cannot import name 'find_QQ' from 'travel_diagrams' (/Users/nicolo/Python Notebooks/Cartan and Qs/travel_diagrams.py)"
     ]
    }
   ],
   "source": [
    "from basis_vectors import Vector_array, Basis_vector\n",
    "from scalar_products import scalarp_vector, scalarp_roots\n",
    "from roots import Root, sum_root, mult_root\n",
    "from weyl import weyl\n",
    "from dynkin import Dynkin, Distinguished\n",
    "from travel_diagrams import travel, print_visited, print_visited_cartan, find_Qfunctions, find_QQ_relations"
   ]
  },
  {
   "cell_type": "markdown",
   "id": "4fc8a413-2a82-4081-a387-11a557341405",
   "metadata": {},
   "source": [
    "# Osp(4|2)"
   ]
  },
  {
   "cell_type": "markdown",
   "id": "cbd7a298-4da0-4bd8-9ee0-5fe1b064ec1c",
   "metadata": {},
   "source": [
    "### Initialise grading "
   ]
  },
  {
   "cell_type": "markdown",
   "id": "53f637fb-83df-40ff-a3ba-360fda201d88",
   "metadata": {},
   "source": [
    "First, we need to declare grading of our space initialising an instance of the Vector_array class with arguments a `tuple` with two entries:\n",
    "`(no_bosons,no_fermions)`.\n",
    "\n",
    "For Osp(4|2), `no_bosons=2` and `no_fermions=1`."
   ]
  },
  {
   "cell_type": "code",
   "execution_count": null,
   "id": "b4e142d5-93bc-4f0e-a7bd-aeff86a69e4f",
   "metadata": {},
   "outputs": [],
   "source": [
    "vector_array=Vector_array((2,1))"
   ]
  },
  {
   "cell_type": "markdown",
   "id": "587e6397-32e0-43bc-aaa8-2e1bb0695751",
   "metadata": {},
   "source": [
    "### Create distinguished Dynkin diagram"
   ]
  },
  {
   "cell_type": "markdown",
   "id": "f594fd60-751c-4e40-9495-11c19b729dae",
   "metadata": {},
   "source": [
    "We can generate the distinguished Dynkin diagram for Osp(4|2) by initialising an instance of the class `Distinguished` and passing to it `vector_array`. Note that `Distinguished` is a child of the class `Dynkin`."
   ]
  },
  {
   "cell_type": "code",
   "execution_count": null,
   "id": "18f28333-7845-4058-ac05-761516bef649",
   "metadata": {},
   "outputs": [],
   "source": [
    "distinguished=Distinguished(vector_array)"
   ]
  },
  {
   "cell_type": "markdown",
   "id": "808b0b0c-88fc-48c1-959b-3f67ec7085d0",
   "metadata": {},
   "source": [
    "We can visualise the simple roots associated to this diagram by using the method `view` of the `Dynkin` class.\n",
    "\n",
    "X means that it is a fermionic node, O that it is bosonic. Links between roots are unfortunately not printed yet!"
   ]
  },
  {
   "cell_type": "code",
   "execution_count": null,
   "id": "764b7d8b-722d-4d68-af30-f5836670fa8c",
   "metadata": {},
   "outputs": [],
   "source": [
    "distinguished.view()"
   ]
  },
  {
   "cell_type": "markdown",
   "id": "78a93d6a-fa2c-4eda-8050-5c42c654d47b",
   "metadata": {},
   "source": [
    "The Cartan matrix associated to this Dynkin diagram is stored in the attribute `cartan_matrix` of the `Dynkin` class.\n",
    "\n",
    "You can print it nicely via the method `print_cartan` of the `Dynkin` class."
   ]
  },
  {
   "cell_type": "code",
   "execution_count": null,
   "id": "2053eb4a-c5f3-4dff-b86a-2677bb36a91c",
   "metadata": {},
   "outputs": [],
   "source": [
    "print('dimension of Cartan matrix:')\n",
    "print(len(distinguished.cartan_matrix))\n",
    "\n",
    "print('Cartan matrix:')\n",
    "distinguished.print_cartan()"
   ]
  },
  {
   "cell_type": "markdown",
   "id": "35d53d23-b3f3-4b10-9e0d-f0a017c9465b",
   "metadata": {},
   "source": [
    "### Use Weyl reflections to generate other diagrams"
   ]
  },
  {
   "cell_type": "markdown",
   "id": "6c4a0c4c-b8d2-47c6-a51d-142d8a224bf1",
   "metadata": {},
   "source": [
    "The method `weyl_on_diagram` of the class `Dynkin` takes as input a number representing the root $\\alpha_i$ of the Dynkin diagram. It then applies the Weyl transform $W_{\\alpha_i}$ to all the simple roots in the diagram, returning the resulting Dynkin diagram as an instance of the class `Dynkin`.\n",
    "\n",
    "With the methods described above, it is easy to see the roots and the Cartan matrix of the resulting diagram from the Weyl transformation.\n",
    "\n",
    "If I did everything correctly, Weyl reflections generated by __even__ roots should preserve the Cartan matrix, while Weyl reflections generated by __odd__ roots should change it (i.e. they should bring you to a differently shaped Dynkin diagram).\n",
    "\n",
    "We maintain a variable to count number of different diagrams. We initialise it to one to account for distinguished."
   ]
  },
  {
   "cell_type": "code",
   "execution_count": null,
   "id": "ba76f829-a05a-4a8a-b869-f952ebae3fee",
   "metadata": {},
   "outputs": [],
   "source": [
    "no_diagrams=1"
   ]
  },
  {
   "cell_type": "code",
   "execution_count": null,
   "id": "91349b0c-1adb-4053-9d04-62a2dd10f755",
   "metadata": {},
   "outputs": [],
   "source": [
    "def weyl_view(diagram,node):\n",
    "    diagram2=diagram.weyl_on_diagram(node)\n",
    "    diagram2.view()\n",
    "    diagram2.print_cartan()\n",
    "    return diagram2"
   ]
  },
  {
   "cell_type": "markdown",
   "id": "2b53b1ac-06c7-4f60-b422-c0fec72fe110",
   "metadata": {},
   "source": [
    "#### Bosonic reflection on Distinguished diagram"
   ]
  },
  {
   "cell_type": "code",
   "execution_count": null,
   "id": "67244820-b74b-4ddc-8df2-e6aee7d4c424",
   "metadata": {},
   "outputs": [],
   "source": [
    "distinguished.view()\n",
    "distinguished.print_cartan()"
   ]
  },
  {
   "cell_type": "code",
   "execution_count": null,
   "id": "e98c56bf-86c9-445c-a018-d93ee791f37d",
   "metadata": {},
   "outputs": [],
   "source": [
    "#distinguished on spinor +\n",
    "diagram_p=weyl_view(distinguished,2)"
   ]
  },
  {
   "cell_type": "code",
   "execution_count": null,
   "id": "68fc85d6-48b7-497c-bd0c-2392867acaa9",
   "metadata": {},
   "outputs": [],
   "source": [
    "#distinguished on spinor -\n",
    "diagram_m=distinguished.weyl_on_diagram(3)\n",
    "diagram_m.view()\n",
    "diagram_m.print_cartan()"
   ]
  },
  {
   "cell_type": "code",
   "execution_count": null,
   "id": "8eea5d06-3e6c-4612-ad1a-d371a0baeaf3",
   "metadata": {},
   "outputs": [],
   "source": [
    "#diagram + on spinor -\n",
    "diagram_pm=diagram_p.weyl_on_diagram(3)\n",
    "diagram_pm.view()\n",
    "diagram_pm.print_cartan()"
   ]
  },
  {
   "cell_type": "code",
   "execution_count": null,
   "id": "bf1891e9-2217-4298-8cda-927994b56fd4",
   "metadata": {},
   "outputs": [],
   "source": [
    "#diagram - on spinor +\n",
    "diagram_mp=diagram_m.weyl_on_diagram(2)\n",
    "diagram_mp.view()\n",
    "diagram_mp.print_cartan()\n",
    "#same as pm"
   ]
  },
  {
   "cell_type": "code",
   "execution_count": null,
   "id": "8e2f4681-f35e-44b1-8313-fe394712497e",
   "metadata": {},
   "outputs": [],
   "source": [
    "#diagram +- on spinor +\n",
    "diagram_pmp=diagram_pm.weyl_on_diagram(2)\n",
    "diagram_pmp.view()\n",
    "diagram_pmp.print_cartan()\n",
    "#same as -"
   ]
  },
  {
   "cell_type": "markdown",
   "id": "fb359df8-308e-457b-8a9f-0702fa22856d",
   "metadata": {},
   "source": [
    "Observations:\n",
    "1) Order of Weyl transform of nodes + and - does not matter\n",
    "2) Hence performing two bosonic transformations of same type always \"cancels out\"\n",
    "3) 3 new types of diagrams can be generated from distinguished"
   ]
  },
  {
   "cell_type": "code",
   "execution_count": null,
   "id": "74da6135-304d-4b9f-b7aa-6d4e99821cf7",
   "metadata": {},
   "outputs": [],
   "source": [
    "no_diagrams+=3"
   ]
  },
  {
   "cell_type": "markdown",
   "id": "94e34f34-819d-4abb-a5b1-da2cb0a14b7e",
   "metadata": {},
   "source": [
    "### Fermionic reflection on distinguished"
   ]
  },
  {
   "cell_type": "code",
   "execution_count": null,
   "id": "c174c20f-b093-4d9f-acf0-3885716b23a5",
   "metadata": {},
   "outputs": [],
   "source": [
    "distinguished.view()\n",
    "distinguished.print_cartan()"
   ]
  },
  {
   "cell_type": "code",
   "execution_count": null,
   "id": "a20c2c50-8ecd-4d85-996d-40b50acc1397",
   "metadata": {},
   "outputs": [],
   "source": [
    "diagram_f1=distinguished.weyl_on_diagram(1)\n",
    "diagram_f1.view()\n",
    "diagram_f1.print_cartan()"
   ]
  },
  {
   "cell_type": "markdown",
   "id": "6a75a949-c9a4-49e8-bdb7-3d3d69064be1",
   "metadata": {},
   "source": [
    "There is only 1 extra diagram here."
   ]
  },
  {
   "cell_type": "code",
   "execution_count": null,
   "id": "663a295a-b749-496a-8844-b68d81a54162",
   "metadata": {},
   "outputs": [],
   "source": [
    "no_diagrams+=1"
   ]
  },
  {
   "cell_type": "markdown",
   "id": "71eb9272-1e5e-45d6-869e-de28bf4548e1",
   "metadata": {},
   "source": [
    "### Fermionic reflections on f1 diagram"
   ]
  },
  {
   "cell_type": "code",
   "execution_count": null,
   "id": "1a5e0782-6823-4fae-b2cd-afcee4c3f30e",
   "metadata": {},
   "outputs": [],
   "source": [
    "diagram_fp=diagram_f1.weyl_on_diagram(2)\n",
    "diagram_fp.view()\n",
    "diagram_fp.print_cartan()"
   ]
  },
  {
   "cell_type": "code",
   "execution_count": null,
   "id": "8d1cdc2d-94c1-4c7e-a182-377ebc23c243",
   "metadata": {},
   "outputs": [],
   "source": [
    "diagram_fm=diagram_f1.weyl_on_diagram(3)\n",
    "diagram_fm.view()\n",
    "\n"
   ]
  },
  {
   "cell_type": "markdown",
   "id": "51677231-9060-47dd-b902-df77941d7dde",
   "metadata": {},
   "source": [
    "## Automated"
   ]
  },
  {
   "cell_type": "markdown",
   "id": "af3b54c1-ba74-4adf-8535-304345941a2a",
   "metadata": {},
   "source": [
    "We use a function, `travel`, that lists all diagrams reachable from distinguished via Weyl transformations"
   ]
  },
  {
   "cell_type": "code",
   "execution_count": null,
   "id": "f69bbe7f-5e27-4f94-81c6-d09bf42bdb59",
   "metadata": {},
   "outputs": [],
   "source": [
    "visited=travel(distinguished)\n",
    "print('number of Hasse paths:', len(visited))"
   ]
  },
  {
   "cell_type": "code",
   "execution_count": null,
   "id": "ae4a65a1-b870-4464-9f8c-e186048a7369",
   "metadata": {},
   "outputs": [],
   "source": [
    "print_visited_cartan(visited)"
   ]
  },
  {
   "cell_type": "markdown",
   "id": "53b5cddc-7883-4258-a9b8-0c1b273ea605",
   "metadata": {},
   "source": [
    "Let's print the same diagrams without the Cartan matrix:"
   ]
  },
  {
   "cell_type": "code",
   "execution_count": null,
   "id": "3e85c1bc-8594-403d-8861-d3d9fc19d399",
   "metadata": {},
   "outputs": [],
   "source": [
    "i=0\n",
    "for element in visited:\n",
    "    i+=1\n",
    "    print(f'{i}-th diagram')\n",
    "    element.view()"
   ]
  },
  {
   "cell_type": "markdown",
   "id": "3af568d5-6622-4ab7-94ff-7d50bee99345",
   "metadata": {},
   "source": [
    "There are 4 categories of diagrams for Osp(4,2):\n",
    "1)  so(6) type, simply laced\n",
    "2)  so(6) type, not simply laced (double link between spinor nodes)\n",
    "3)  sp(6) type, with long root $2f_1$ on first spinor node $S_+$\n",
    "4)  sp(6) type, with long root $2f_1$ on second spinor node $S_-$"
   ]
  },
  {
   "cell_type": "markdown",
   "id": "f8223daf-ef24-482c-8d2c-433123f3e9df",
   "metadata": {},
   "source": [
    "## QQ-relations"
   ]
  },
  {
   "cell_type": "code",
   "execution_count": null,
   "id": "43a4c24e-47b3-4053-aee2-ce755a1703f3",
   "metadata": {},
   "outputs": [],
   "source": [
    "distinguished.view()\n",
    "distinguished.print_cartan()"
   ]
  },
  {
   "cell_type": "code",
   "execution_count": null,
   "id": "7926f797-8b76-4218-8f14-f37ec0d9c630",
   "metadata": {},
   "outputs": [],
   "source": [
    "distinguished.weyl_on_diagram(2).view()\n",
    "distinguished.weyl_on_diagram(2).print_cartan()"
   ]
  },
  {
   "cell_type": "code",
   "execution_count": null,
   "id": "c638a3e5-67ac-447a-bda2-8e4cd83535d5",
   "metadata": {},
   "outputs": [],
   "source": [
    "distinguished.QQ_relation(2)\n",
    "distinguished.QQ_relation(3)\n",
    "distinguished.weyl_on_diagram(3).QQ_relation(2)\n",
    "distinguished.weyl_on_diagram(2).QQ_relation(3)"
   ]
  },
  {
   "cell_type": "markdown",
   "id": "a7972852-7c4b-49c9-b02f-b105b47606c0",
   "metadata": {},
   "source": [
    "QQ relation between this guy and the distinguished one should be:\n",
    "\n",
    "$W(Q_{node 2},Q'_{node 2})=Q_{node_1}$"
   ]
  },
  {
   "cell_type": "code",
   "execution_count": null,
   "id": "ad2b1bb6-c77c-42a8-83d1-26d8864548d9",
   "metadata": {},
   "outputs": [],
   "source": [
    "distinguished.weyl_on_diagram(3).view()\n",
    "distinguished.weyl_on_diagram(3).print_cartan()"
   ]
  },
  {
   "cell_type": "markdown",
   "id": "629ade49-81f2-40d1-a99b-5bfd6c228900",
   "metadata": {},
   "source": [
    "QQ relation between this guy and the distinguished one should be:\n",
    "\n",
    "$W(Q_{node 3},Q'_{node 3})=Q_{node_1}$"
   ]
  },
  {
   "cell_type": "markdown",
   "id": "7daea579-cffe-4bb2-ad1c-43aceb56308e",
   "metadata": {},
   "source": [
    "All shifts are $\\pm1$. From where do you see them?"
   ]
  },
  {
   "cell_type": "code",
   "execution_count": null,
   "id": "792be8eb-7400-4252-9b40-d0de8e4a76ea",
   "metadata": {},
   "outputs": [],
   "source": [
    "visited[8].view()"
   ]
  },
  {
   "cell_type": "code",
   "execution_count": null,
   "id": "74a85d14-4635-4441-a445-fdc5398532f3",
   "metadata": {},
   "outputs": [],
   "source": [
    "visited[8].QQ_relation(1)"
   ]
  },
  {
   "cell_type": "code",
   "execution_count": null,
   "id": "6fa63d5a-a7e3-45c9-8301-ad8e870d4eda",
   "metadata": {},
   "outputs": [],
   "source": [
    "visited[8].QQ_relation(3)"
   ]
  },
  {
   "cell_type": "code",
   "execution_count": null,
   "id": "170e7519-c172-4d8f-a06a-45f5fabedeaa",
   "metadata": {},
   "outputs": [],
   "source": [
    "distinguished.view()\n",
    "distinguished.weyl_on_diagram(1).view()\n",
    "distinguished.weyl_on_diagram(1).weyl_on_diagram(2).view()\n",
    "distinguished.weyl_on_diagram(1).weyl_on_diagram(3).view()"
   ]
  },
  {
   "cell_type": "code",
   "execution_count": null,
   "id": "c65e5745-3947-4c14-b0ff-c53d25b74cd4",
   "metadata": {},
   "outputs": [],
   "source": [
    "distinguished.QQ_relation(2)\n",
    "distinguished.weyl_on_diagram(1).weyl_on_diagram(2).QQ_relation(1)"
   ]
  },
  {
   "cell_type": "code",
   "execution_count": null,
   "id": "1ee8919c-0e61-4fd6-b3f8-40501cc2250e",
   "metadata": {},
   "outputs": [],
   "source": [
    "distinguished.weyl_on_diagram(1).weyl_on_diagram(2).view()\n",
    "distinguished.weyl_on_diagram(1).weyl_on_diagram(2).weyl_on_diagram(2).view()\n",
    "distinguished.weyl_on_diagram(1).weyl_on_diagram(2).QQ_relation(2)"
   ]
  },
  {
   "cell_type": "code",
   "execution_count": null,
   "id": "944e2023-7049-44a7-bb4e-ef637851cb77",
   "metadata": {},
   "outputs": [],
   "source": [
    "distinguished.weyl_on_diagram(1).weyl_on_diagram(3).view()\n",
    "distinguished.weyl_on_diagram(1).weyl_on_diagram(3).weyl_on_diagram(2).view()\n",
    "distinguished.weyl_on_diagram(1).weyl_on_diagram(3).QQ_relation(2)"
   ]
  },
  {
   "cell_type": "code",
   "execution_count": null,
   "id": "db3c1949-2338-46d9-ad3b-789c598c48ea",
   "metadata": {},
   "outputs": [],
   "source": [
    "len(find_Qfunctions(visited))"
   ]
  },
  {
   "cell_type": "code",
   "execution_count": null,
   "id": "26cd2cd5-582e-4710-9a2d-8cfdeae6ffee",
   "metadata": {},
   "outputs": [],
   "source": [
    "find_Qfunctions(visited)"
   ]
  },
  {
   "cell_type": "code",
   "execution_count": null,
   "id": "4bc9e43a-a3bf-49ba-ab3a-06dbebabacf2",
   "metadata": {},
   "outputs": [],
   "source": [
    "len([el for el in find_Qfunctions(visited) if 'S' in el])"
   ]
  },
  {
   "cell_type": "code",
   "execution_count": null,
   "id": "788e3857-5e66-4998-a82f-12c714320db9",
   "metadata": {},
   "outputs": [],
   "source": [
    "distinguished.view()\n",
    "distinguished.weyl_on_diagram(4).view()\n",
    "distinguished.QQ_relation(4)"
   ]
  },
  {
   "cell_type": "code",
   "execution_count": null,
   "id": "241f26b1-082e-4937-af9c-acf33515f83c",
   "metadata": {},
   "outputs": [],
   "source": [
    "distinguished.weyl_on_diagram(3).QQ_relation(4)\n",
    "distinguished.weyl_on_diagram(3).view()\n",
    "distinguished.weyl_on_diagram(3).weyl_on_diagram(4).view()"
   ]
  },
  {
   "cell_type": "code",
   "execution_count": null,
   "id": "a53a8eb0-7036-487e-bb83-01a480b7dfd4",
   "metadata": {},
   "outputs": [],
   "source": [
    "distinguished.weyl_on_diagram(2).QQ_relation(3)\n",
    "distinguished.weyl_on_diagram(2).view()\n",
    "distinguished.weyl_on_diagram(2).weyl_on_diagram(3).view()"
   ]
  },
  {
   "cell_type": "code",
   "execution_count": null,
   "id": "336a42f2-79c4-411b-8a2c-997c45b04523",
   "metadata": {},
   "outputs": [],
   "source": [
    "distinguished.QQ_relation(3)\n",
    "distinguished.view()\n",
    "distinguished.weyl_on_diagram(3).view()"
   ]
  },
  {
   "cell_type": "code",
   "execution_count": null,
   "id": "25929143-289f-4303-a003-8be04a0f4fed",
   "metadata": {},
   "outputs": [],
   "source": [
    "distinguished.view()"
   ]
  },
  {
   "cell_type": "code",
   "execution_count": null,
   "id": "d9b29ea8-490d-484a-9f19-ce16b60cce75",
   "metadata": {},
   "outputs": [],
   "source": [
    "fermion1=distinguished.weyl_on_diagram(2)\n",
    "fermion1.view()"
   ]
  },
  {
   "cell_type": "code",
   "execution_count": null,
   "id": "555d9981-9d98-405a-9290-c015fd7eaf40",
   "metadata": {},
   "outputs": [],
   "source": [
    "fermion2=fermion1.weyl_on_diagram(3)\n",
    "fermion2.view()"
   ]
  },
  {
   "cell_type": "code",
   "execution_count": null,
   "id": "20f40552-dc9b-47ac-be5e-e063b87f9d46",
   "metadata": {},
   "outputs": [],
   "source": [
    "fermion2.weyl_on_diagram(4).print_cartan()"
   ]
  },
  {
   "cell_type": "code",
   "execution_count": null,
   "id": "51f56d99-744b-4ed4-9013-872bfb70e114",
   "metadata": {},
   "outputs": [],
   "source": [
    "fermion2.weyl_on_diagram(4).view()\n",
    "fermion2.weyl_on_diagram(4).weyl_on_diagram(4).view()"
   ]
  },
  {
   "cell_type": "code",
   "execution_count": null,
   "id": "81e95d11-ca87-4ef8-8683-b6b2af233cf3",
   "metadata": {},
   "outputs": [],
   "source": [
    "fermion2.weyl_on_diagram(4).QQ_relation(4)"
   ]
  },
  {
   "cell_type": "code",
   "execution_count": null,
   "id": "a7954710-2e7e-4cb4-8a54-06fe2ba258b5",
   "metadata": {},
   "outputs": [],
   "source": [
    "fermion2.weyl_on_diagram(4).weyl_on_diagram(4).QQ_relation(4)"
   ]
  },
  {
   "cell_type": "code",
   "execution_count": null,
   "id": "4ab5e1c5-97d6-4535-ab8f-27b335b6bcdc",
   "metadata": {},
   "outputs": [],
   "source": [
    "fermion2.weyl_on_diagram(4).QQ_relation(5)"
   ]
  },
  {
   "cell_type": "code",
   "execution_count": null,
   "id": "1a89828c-ac28-474a-864c-908ec439d980",
   "metadata": {},
   "outputs": [],
   "source": [
    "fermion2.weyl_on_diagram(4).weyl_on_diagram(4).QQ_relation(5)"
   ]
  },
  {
   "cell_type": "code",
   "execution_count": null,
   "id": "401b1245-177a-4519-8ec2-c66b1825300b",
   "metadata": {},
   "outputs": [],
   "source": []
  }
 ],
 "metadata": {
  "kernelspec": {
   "display_name": "Python 3 (ipykernel)",
   "language": "python",
   "name": "python3"
  },
  "language_info": {
   "codemirror_mode": {
    "name": "ipython",
    "version": 3
   },
   "file_extension": ".py",
   "mimetype": "text/x-python",
   "name": "python",
   "nbconvert_exporter": "python",
   "pygments_lexer": "ipython3",
   "version": "3.11.8"
  }
 },
 "nbformat": 4,
 "nbformat_minor": 5
}
